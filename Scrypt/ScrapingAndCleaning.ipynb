{
 "cells": [
  {
   "cell_type": "code",
   "execution_count": null,
   "metadata": {
    "collapsed": true
   },
   "outputs": [],
   "source": [
    "# Import all the necessary libraries\n",
    "\n",
    "import numpy as np\n",
    "import pandas as pd\n",
    "from datetime import datetime as dt\n",
    "import itertools\n",
    "\n",
    "%matplotlib inline"
   ]
  },
  {
   "cell_type": "code",
   "execution_count": null,
   "metadata": {
    "collapsed": true
   },
   "outputs": [],
   "source": [
    "# Read data from the CSV into a dataframe\n",
    "\n",
    "loc = \"C:/Users/Admin/Desktop/Data/e0/\"\n",
    "\n",
    "\n",
    "raw_data_13 = pd.read_csv(loc + 'E0-2013.csv')\n",
    "raw_data_14 = pd.read_csv(loc + 'E0-2014.csv')\n",
    "raw_data_15 = pd.read_csv(loc + 'E0-2015.csv')\n",
    "raw_data_16 = pd.read_csv(loc + 'E0-2016.csv')\n",
    "raw_data_17 = pd.read_csv(loc + 'E0-2017.csv')\n"
   ]
  },
  {
   "cell_type": "code",
   "execution_count": null,
   "metadata": {},
   "outputs": [],
   "source": [
    "raw_data_17"
   ]
  },
  {
   "cell_type": "code",
   "execution_count": null,
   "metadata": {},
   "outputs": [],
   "source": [
    "# Parse data as time \n",
    "\n",
    "def parse_date(date):\n",
    "    if date == '':\n",
    "        return None\n",
    "    else:\n",
    "        return dt.strptime(str(date), '%d/%m/%y').date()\n",
    "    \n",
    "    \n",
    "def parse_date1(date):\n",
    "    if date == '':\n",
    "        return None\n",
    "    else:\n",
    "        return dt.strptime(str(date), '%Y-%m-%d').date()\n",
    "    \n",
    "\n",
    "def parse_date_other(date):\n",
    "    if date == '':\n",
    "        return None\n",
    "    else:\n",
    "        return dt.strptime(str(date), '%d/%m/%Y').date()\n",
    "\n",
    "\n",
    "raw_data_13.Date = raw_data_13.Date.apply(parse_date1)\n",
    "raw_data_14.Date = raw_data_14[:380].Date.apply(parse_date)\n",
    "raw_data_15.Date = raw_data_15.Date.apply(parse_date)\n",
    "raw_data_16.Date = raw_data_16.Date.apply(parse_date)\n",
    "raw_data_17.Date = raw_data_17.Date.apply(parse_date)\n",
    "\n",
    "\n",
    "\n",
    "#Gets all the statistics related to gameplay\n",
    "                      \n",
    "columns_req = ['Date','HomeTeam','AwayTeam','FTHG','FTAG','FTR']\n",
    "\n",
    "\n",
    "playing_statistics_13 = raw_data_13[columns_req]\n",
    "playing_statistics_14 = raw_data_14[columns_req]\n",
    "playing_statistics_15 = raw_data_15[columns_req]\n",
    "playing_statistics_16 = raw_data_16[columns_req]\n",
    "playing_statistics_17 = raw_data_17[columns_req]"
   ]
  },
  {
   "cell_type": "raw",
   "metadata": {},
   "source": [
    "** GOALS SCORED AND CONCEDED AT THE END OF MATCHWEEK, ARRANGED BY TEAMS AND MATCHWEEK  **"
   ]
  },
  {
   "cell_type": "code",
   "execution_count": null,
   "metadata": {},
   "outputs": [],
   "source": [
    "playing_statistics_17.groupby('HomeTeam').mean().T.columns\n",
    "playing_statistics_17.iloc[0]['FTHG']"
   ]
  },
  {
   "cell_type": "code",
   "execution_count": null,
   "metadata": {
    "collapsed": true
   },
   "outputs": [],
   "source": [
    "# Gets the goals scored agg arranged by teams and matchweek\n",
    "def get_goals_scored(playing_stat):\n",
    "    # Create a dictionary with team names as keys\n",
    "    teams = {}\n",
    "    for i in playing_stat.groupby('HomeTeam').mean().T.columns:\n",
    "        teams[i] = []\n",
    "    \n",
    "    # the value corresponding to keys is a list containing the match location.\n",
    "    for i in range(len(playing_stat)):\n",
    "        HTGS = playing_stat.iloc[i]['FTHG']\n",
    "        ATGS = playing_stat.iloc[i]['FTAG']\n",
    "        teams[playing_stat.iloc[i].HomeTeam].append(HTGS)\n",
    "        teams[playing_stat.iloc[i].AwayTeam].append(ATGS)\n",
    "    \n",
    "    # Create a dataframe for goals scored where rows are teams and cols are matchweek.\n",
    "    GoalsScored = pd.DataFrame(data=teams, index = [i for i in range(1,39)]).T\n",
    "    GoalsScored[0] = 0\n",
    "    # Aggregate to get uptil that point\n",
    "    for i in range(2,39):\n",
    "        GoalsScored[i] = GoalsScored[i] + GoalsScored[i-1]\n",
    "    return GoalsScored\n",
    "\n",
    "\n",
    "\n",
    "# Gets the goals conceded agg arranged by teams and matchweek\n",
    "def get_goals_conceded(playing_stat):\n",
    "    # Create a dictionary with team names as keys\n",
    "    teams = {}\n",
    "    for i in playing_stat.groupby('HomeTeam').mean().T.columns:\n",
    "        teams[i] = []\n",
    "    \n",
    "    # the value corresponding to keys is a list containing the match location.\n",
    "    for i in range(len(playing_stat)):\n",
    "        ATGC = playing_stat.iloc[i]['FTHG']\n",
    "        HTGC = playing_stat.iloc[i]['FTAG']\n",
    "        teams[playing_stat.iloc[i].HomeTeam].append(HTGC)\n",
    "        teams[playing_stat.iloc[i].AwayTeam].append(ATGC)\n",
    "    \n",
    "    # Create a dataframe for goals scored where rows are teams and cols are matchweek.\n",
    "    GoalsConceded = pd.DataFrame(data=teams, index = [i for i in range(1,39)]).T\n",
    "    GoalsConceded[0] = 0\n",
    "    # Aggregate to get uptil that point\n",
    "    for i in range(2,39):\n",
    "        GoalsConceded[i] = GoalsConceded[i] + GoalsConceded[i-1]\n",
    "    return GoalsConceded"
   ]
  },
  {
   "cell_type": "code",
   "execution_count": null,
   "metadata": {},
   "outputs": [],
   "source": [
    "playing_statistics_13"
   ]
  },
  {
   "cell_type": "code",
   "execution_count": null,
   "metadata": {},
   "outputs": [],
   "source": [
    "\n",
    "def get_gss(playing_stat):\n",
    "    GC = get_goals_conceded(playing_stat)\n",
    "    GS = get_goals_scored(playing_stat)\n",
    "   \n",
    "    j = 0\n",
    "    HTGS = []\n",
    "    ATGS = []\n",
    "    HTGC = []\n",
    "    ATGC = []\n",
    "\n",
    "    for i in range(380):\n",
    "        ht = playing_stat.iloc[i].HomeTeam\n",
    "        at = playing_stat.iloc[i].AwayTeam\n",
    "        HTGS.append(GS.loc[ht][j])\n",
    "        ATGS.append(GS.loc[at][j])\n",
    "        HTGC.append(GC.loc[ht][j])\n",
    "        ATGC.append(GC.loc[at][j])\n",
    "        \n",
    "        if ((i + 1)% 10) == 0:\n",
    "            j = j + 1\n",
    "        \n",
    "    playing_stat['HTGS'] = HTGS\n",
    "    playing_stat['ATGS'] = ATGS\n",
    "    playing_stat['HTGC'] = HTGC\n",
    "    playing_stat['ATGC'] = ATGC\n",
    "    \n",
    "    return playing_stat\n",
    "\n",
    "\n",
    "# Apply to each dataset\n",
    "playing_statistics_13 = get_gss(playing_statistics_13)\n",
    "playing_statistics_14 = get_gss(playing_statistics_14[:380])\n",
    "playing_statistics_15 = get_gss(playing_statistics_15)\n",
    "playing_statistics_16 = get_gss(playing_statistics_16)\n",
    "\n"
   ]
  },
  {
   "cell_type": "code",
   "execution_count": null,
   "metadata": {},
   "outputs": [],
   "source": []
  },
  {
   "cell_type": "raw",
   "metadata": {},
   "source": [
    "GET RESPECTIVE POINTS:"
   ]
  },
  {
   "cell_type": "code",
   "execution_count": null,
   "metadata": {},
   "outputs": [],
   "source": [
    "def get_points(result):\n",
    "    if result == 'W':\n",
    "        return 3\n",
    "    elif result == 'D':\n",
    "        return 1\n",
    "    else:\n",
    "        return 0\n",
    "    \n",
    "\n",
    "def get_cuml_points(matchres):\n",
    "    matchres_points = matchres.applymap(get_points)\n",
    "    for i in range(2,39):\n",
    "        matchres_points[i] = matchres_points[i] + matchres_points[i-1]\n",
    "        \n",
    "    matchres_points.insert(column =0, loc = 0, value = [0*i for i in range(20)])\n",
    "    return matchres_points\n",
    "\n",
    "\n",
    "def get_matchres(playing_stat):\n",
    "    # Create a dictionary with team names as keys\n",
    "    teams = {}\n",
    "    for i in playing_stat.groupby('HomeTeam').mean().T.columns:\n",
    "        teams[i] = []\n",
    "\n",
    "    # the value corresponding to keys is a list containing the match result\n",
    "    for i in range(len(playing_stat)):\n",
    "        if playing_stat.iloc[i].FTR == 'H':\n",
    "            teams[playing_stat.iloc[i].HomeTeam].append('W')\n",
    "            teams[playing_stat.iloc[i].AwayTeam].append('L')\n",
    "        elif playing_stat.iloc[i].FTR == 'A':\n",
    "            teams[playing_stat.iloc[i].AwayTeam].append('W')\n",
    "            teams[playing_stat.iloc[i].HomeTeam].append('L')\n",
    "        else:\n",
    "            teams[playing_stat.iloc[i].AwayTeam].append('D')\n",
    "            teams[playing_stat.iloc[i].HomeTeam].append('D')\n",
    "            \n",
    "    return pd.DataFrame(data=teams, index = [i for i in range(1,39)]).T\n",
    "\n",
    "def get_agg_points(playing_stat):\n",
    "    matchres = get_matchres(playing_stat)\n",
    "    cum_pts = get_cuml_points(matchres)\n",
    "    HTP = []\n",
    "    ATP = []\n",
    "    j = 0\n",
    "    for i in range(380):\n",
    "        ht = playing_stat.iloc[i].HomeTeam\n",
    "        at = playing_stat.iloc[i].AwayTeam\n",
    "        HTP.append(cum_pts.loc[ht][j])\n",
    "        ATP.append(cum_pts.loc[at][j])\n",
    "\n",
    "        if ((i + 1)% 10) == 0:\n",
    "            j = j + 1\n",
    "            \n",
    "    playing_stat['HTP'] = HTP\n",
    "    playing_stat['ATP'] = ATP\n",
    "    return playing_stat\n",
    "    \n",
    "# Apply to each dataset\n",
    "playing_statistics_13 = get_agg_points(playing_statistics_13)\n",
    "playing_statistics_14 = get_agg_points(playing_statistics_14)\n",
    "playing_statistics_15 = get_agg_points(playing_statistics_15)\n",
    "playing_statistics_16 = get_agg_points(playing_statistics_16)"
   ]
  },
  {
   "cell_type": "raw",
   "metadata": {},
   "source": [
    "GET TEAM FORM:"
   ]
  },
  {
   "cell_type": "code",
   "execution_count": null,
   "metadata": {
    "collapsed": true
   },
   "outputs": [],
   "source": [
    "def get_form(playing_stat,num):\n",
    "    form = get_matchres(playing_stat)\n",
    "    form_final = form.copy()\n",
    "    for i in range(num,39):\n",
    "        form_final[i] = ''\n",
    "        j = 0\n",
    "        while j < num:\n",
    "            form_final[i] += form[i-j]\n",
    "            j += 1           \n",
    "    return form_final\n",
    "\n",
    "def add_form(playing_stat,num):\n",
    "    form = get_form(playing_stat,num)\n",
    "    h = ['M' for i in range(num * 10)]  # since form is not available for n MW (n*10)\n",
    "    a = ['M' for i in range(num * 10)]\n",
    "    \n",
    "    j = num\n",
    "    for i in range((num*10),380):\n",
    "        ht = playing_stat.iloc[i].HomeTeam\n",
    "        at = playing_stat.iloc[i].AwayTeam\n",
    "        \n",
    "        past = form.loc[ht][j]               # get past n results\n",
    "        h.append(past[num-1])                    # 0 index is most recent\n",
    "        \n",
    "        past = form.loc[at][j]               # get past n results.\n",
    "        a.append(past[num-1])                   # 0 index is most recent\n",
    "        \n",
    "        if ((i + 1)% 10) == 0:\n",
    "            j = j + 1\n",
    "\n",
    "    playing_stat['HM' + str(num)] = h                 \n",
    "    playing_stat['AM' + str(num)] = a\n",
    "\n",
    "    \n",
    "    return playing_stat\n"
   ]
  },
  {
   "cell_type": "code",
   "execution_count": null,
   "metadata": {},
   "outputs": [],
   "source": []
  },
  {
   "cell_type": "code",
   "execution_count": null,
   "metadata": {},
   "outputs": [],
   "source": [
    "\n",
    "\n",
    "def add_form_df(playing_statistics):\n",
    "    playing_statistics = add_form(playing_statistics,1)\n",
    "    playing_statistics = add_form(playing_statistics,2)\n",
    "    playing_statistics = add_form(playing_statistics,3)\n",
    "    playing_statistics = add_form(playing_statistics,4)\n",
    "    playing_statistics = add_form(playing_statistics,5)\n",
    "    return playing_statistics    \n",
    "    \n",
    "# Make changes to df\n",
    "playing_statistics_13 = add_form_df(playing_statistics_13)\n",
    "playing_statistics_14 = add_form_df(playing_statistics_14)\n",
    "playing_statistics_15 = add_form_df(playing_statistics_15)    \n",
    "playing_statistics_16 = add_form_df(playing_statistics_16)"
   ]
  },
  {
   "cell_type": "code",
   "execution_count": null,
   "metadata": {},
   "outputs": [],
   "source": [
    "playing_statistics_13"
   ]
  },
  {
   "cell_type": "code",
   "execution_count": null,
   "metadata": {
    "collapsed": true
   },
   "outputs": [],
   "source": [
    "# Rearranging columns\n",
    "cols = ['Date', 'HomeTeam', 'AwayTeam', 'FTHG', 'FTAG', 'FTR', 'HTGS', 'ATGS', 'HTGC', 'ATGC', 'HTP', 'ATP', 'HM1', 'HM2', 'HM3',\n",
    "        'HM4', 'HM5', 'AM1', 'AM2', 'AM3', 'AM4', 'AM5' ]\n",
    "\n",
    "\n",
    "playing_statistics_13 = playing_statistics_13[cols]\n",
    "playing_statistics_14 = playing_statistics_14[cols]\n",
    "playing_statistics_15 = playing_statistics_15[cols]\n",
    "playing_statistics_16 = playing_statistics_16[cols]\n"
   ]
  },
  {
   "cell_type": "code",
   "execution_count": null,
   "metadata": {},
   "outputs": [],
   "source": [
    "playing_statistics_16[playing_statistics_16['AwayTeam'] == 'Chelsea']"
   ]
  },
  {
   "cell_type": "raw",
   "metadata": {},
   "source": [
    "Get Last Year's Position as also an independent variable:\n"
   ]
  },
  {
   "cell_type": "code",
   "execution_count": null,
   "metadata": {},
   "outputs": [],
   "source": [
    "playing_statistics_16"
   ]
  },
  {
   "cell_type": "code",
   "execution_count": null,
   "metadata": {},
   "outputs": [],
   "source": [
    "def get_last(player_stat,player_stat_last_year):\n",
    "     # Create a dictionary with team names as keys\n",
    "    teams = {}\n",
    "    for i in player_stat_last_year.groupby('HomeTeam').mean().T.columns:\n",
    "        teams[i] = 0\n",
    "\n",
    "    # the value corresponding to keys is a list containing the match result\n",
    "    for i in range(len(player_stat_last_year)):\n",
    "        if player_stat_last_year.iloc[i].FTR == 'H':\n",
    "            teams[player_stat_last_year.iloc[i].HomeTeam]+=3\n",
    "            teams[player_stat_last_year.iloc[i].AwayTeam]+=0\n",
    "        elif player_stat_last_year.iloc[i].FTR == 'A':\n",
    "            teams[player_stat_last_year.iloc[i].AwayTeam]+=3\n",
    "            teams[player_stat_last_year.iloc[i].HomeTeam]+=0\n",
    "        else:\n",
    "            teams[player_stat_last_year.iloc[i].AwayTeam]+=1\n",
    "            teams[player_stat_last_year.iloc[i].HomeTeam]+=1\n",
    "    t = sorted(teams.items(), key = lambda x : x[1])\n",
    "    \n",
    "    for i in range(0,len(t)):\n",
    "        teams[t[i][0]] = len(t)-i\n",
    "        \n",
    "    HomeTeamLP = []\n",
    "    AwayTeamLP = []\n",
    "    for i in range(380):\n",
    "        ht = player_stat.iloc[i].HomeTeam\n",
    "        at = player_stat.iloc[i].AwayTeam\n",
    "        try:\n",
    "            HomeTeamLP.append(teams[ht])\n",
    "        except: \n",
    "            HomeTeamLP.append(21)\n",
    "        try:\n",
    "            AwayTeamLP.append(teams[at])\n",
    "        except:\n",
    "            AwayTeamLP.append(21) \n",
    "    player_stat['HomeTeamLP'] =HomeTeamLP\n",
    "    player_stat['AwayTeamLP'] =AwayTeamLP\n",
    "\n",
    "def get_last_for_first(player_stat):\n",
    "         # Create a dictionary with team names as keys\n",
    "    teams = {}\n",
    "    for i in player_stat.groupby('HomeTeam').mean().T.columns:\n",
    "        teams[i] = 0\n",
    "    \n",
    "    HomeTeamLP = []\n",
    "    AwayTeamLP = []\n",
    "    for i in range(380):\n",
    "            HomeTeamLP.append(21)\n",
    "            AwayTeamLP.append(21) \n",
    "    player_stat['HomeTeamLP'] =HomeTeamLP\n",
    "    player_stat['AwayTeamLP'] =AwayTeamLP\n",
    "    \n",
    "\n",
    "get_last_for_first(playing_statistics_13)    \n",
    "get_last(playing_statistics_14,playing_statistics_13)\n",
    "get_last(playing_statistics_15,playing_statistics_14)       \n",
    "get_last(playing_statistics_16,playing_statistics_15)\n"
   ]
  },
  {
   "cell_type": "code",
   "execution_count": null,
   "metadata": {
    "scrolled": true
   },
   "outputs": [],
   "source": [
    "Standings = pd.read_csv(loc + \"EPLStandings.csv\")\n",
    "Standings.set_index(['Team'], inplace=True)\n",
    "Standings = Standings.fillna(18)\n",
    "\n",
    "def get_last(playing_stat, Standings, year):\n",
    "    HomeTeamLP = []\n",
    "    AwayTeamLP = []\n",
    "    for i in range(380):\n",
    "        ht = playing_stat.iloc[i].HomeTeam\n",
    "        at = playing_stat.iloc[i].AwayTeam\n",
    "        HomeTeamLP.append(Standings.loc[ht][year])\n",
    "        AwayTeamLP.append(Standings.loc[at][year])\n",
    "    playing_stat['HomeTeamLP'] = HomeTeamLP\n",
    "    playing_stat['AwayTeamLP'] = AwayTeamLP\n",
    "    return playing_stat\n",
    "\n",
    "playing_statistics_1 = get_last(playing_statistics_1, Standings, 0)\n",
    "playing_statistics_2 = get_last(playing_statistics_2, Standings, 1)\n",
    "playing_statistics_3 = get_last(playing_statistics_3, Standings, 2)\n",
    "playing_statistics_4 = get_last(playing_statistics_4, Standings, 3)\n",
    "playing_statistics_5 = get_last(playing_statistics_5, Standings, 4)\n",
    "playing_statistics_6 = get_last(playing_statistics_6, Standings, 5)\n",
    "playing_statistics_7 = get_last(playing_statistics_7, Standings, 6)\n",
    "playing_statistics_8 = get_last(playing_statistics_8, Standings, 7)\n",
    "playing_statistics_9 = get_last(playing_statistics_9, Standings, 8)\n",
    "playing_statistics_10 = get_last(playing_statistics_10, Standings, 9)\n",
    "playing_statistics_11 = get_last(playing_statistics_11, Standings, 10)\n",
    "playing_statistics_12 = get_last(playing_statistics_12, Standings, 11)\n",
    "playing_statistics_13 = get_last(playing_statistics_13, Standings, 12)\n",
    "playing_statistics_14 = get_last(playing_statistics_14, Standings, 13)\n",
    "playing_statistics_15 = get_last(playing_statistics_15, Standings, 14)\n",
    "playing_statistics_16 = get_last(playing_statistics_16, Standings, 15)\n"
   ]
  },
  {
   "cell_type": "raw",
   "metadata": {},
   "source": [
    "Get MatchWeek:"
   ]
  },
  {
   "cell_type": "code",
   "execution_count": null,
   "metadata": {},
   "outputs": [],
   "source": [
    "def get_mw(playing_stat):\n",
    "    j = 1\n",
    "    MatchWeek = []\n",
    "    for i in range(380):\n",
    "        MatchWeek.append(j)\n",
    "        if ((i + 1)% 10) == 0:\n",
    "            j = j + 1\n",
    "    playing_stat['MW'] = MatchWeek\n",
    "    return playing_stat\n",
    "\n",
    "\n",
    "playing_statistics_13 = get_mw(playing_statistics_13)\n",
    "playing_statistics_14 = get_mw(playing_statistics_14)\n",
    "playing_statistics_15 = get_mw(playing_statistics_15)\n",
    "playing_statistics_16 = get_mw(playing_statistics_16)"
   ]
  },
  {
   "cell_type": "raw",
   "metadata": {},
   "source": [
    "FINAL DATAFRAME"
   ]
  },
  {
   "cell_type": "code",
   "execution_count": null,
   "metadata": {},
   "outputs": [],
   "source": [
    "playing_stat = pd.concat([playing_statistics_13,\n",
    "                          playing_statistics_14,\n",
    "                          playing_statistics_15,\n",
    "                          playing_statistics_16], ignore_index=True)\n",
    "\n",
    "\n",
    "# Gets the form points.\n",
    "def get_form_points(string):\n",
    "    sum = 0\n",
    "    for letter in string:\n",
    "        sum += get_points(letter)\n",
    "    return sum\n",
    "\n",
    "playing_stat['HTFormPtsStr'] = playing_stat['HM1'] + playing_stat['HM2'] + playing_stat['HM3'] + playing_stat['HM4'] + playing_stat['HM5']\n",
    "playing_stat['ATFormPtsStr'] = playing_stat['AM1'] + playing_stat['AM2'] + playing_stat['AM3'] + playing_stat['AM4'] + playing_stat['AM5']\n",
    "\n",
    "playing_stat['HTFormPts'] = playing_stat['HTFormPtsStr'].apply(get_form_points)\n",
    "playing_stat['ATFormPts'] = playing_stat['ATFormPtsStr'].apply(get_form_points)\n",
    "\n",
    "# Identify Win/Loss Streaks if any.\n",
    "def get_3game_ws(string):\n",
    "    if string[-3:] == 'WWW':\n",
    "        return 1\n",
    "    else:\n",
    "        return 0\n",
    "    \n",
    "def get_5game_ws(string):\n",
    "    if string == 'WWWWW':\n",
    "        return 1\n",
    "    else:\n",
    "        return 0\n",
    "    \n",
    "def get_3game_ls(string):\n",
    "    if string[-3:] == 'LLL':\n",
    "        return 1\n",
    "    else:\n",
    "        return 0\n",
    "    \n",
    "def get_5game_ls(string):\n",
    "    if string == 'LLLLL':\n",
    "        return 1\n",
    "    else:\n",
    "        return 0\n",
    "    \n",
    "playing_stat['HTWinStreak3'] = playing_stat['HTFormPtsStr'].apply(get_3game_ws)\n",
    "playing_stat['HTWinStreak5'] = playing_stat['HTFormPtsStr'].apply(get_5game_ws)\n",
    "playing_stat['HTLossStreak3'] = playing_stat['HTFormPtsStr'].apply(get_3game_ls)\n",
    "playing_stat['HTLossStreak5'] = playing_stat['HTFormPtsStr'].apply(get_5game_ls)\n",
    "\n",
    "playing_stat['ATWinStreak3'] = playing_stat['ATFormPtsStr'].apply(get_3game_ws)\n",
    "playing_stat['ATWinStreak5'] = playing_stat['ATFormPtsStr'].apply(get_5game_ws)\n",
    "playing_stat['ATLossStreak3'] = playing_stat['ATFormPtsStr'].apply(get_3game_ls)\n",
    "playing_stat['ATLossStreak5'] = playing_stat['ATFormPtsStr'].apply(get_5game_ls)\n",
    "\n",
    "playing_stat.keys()"
   ]
  },
  {
   "cell_type": "code",
   "execution_count": null,
   "metadata": {
    "collapsed": true
   },
   "outputs": [],
   "source": [
    "# Get Goal Difference\n",
    "playing_stat['HTGD'] = playing_stat['HTGS'] - playing_stat['HTGC']\n",
    "playing_stat['ATGD'] = playing_stat['ATGS'] - playing_stat['ATGC']\n",
    "\n",
    "# Diff in points\n",
    "playing_stat['DiffPts'] = playing_stat['HTP'] - playing_stat['ATP']\n",
    "playing_stat['DiffFormPts'] = playing_stat['HTFormPts'] - playing_stat['ATFormPts']\n",
    "\n",
    "# Diff in last year positions\n",
    "playing_stat['DiffLP'] = playing_stat['HomeTeamLP'] - playing_stat['AwayTeamLP']"
   ]
  },
  {
   "cell_type": "code",
   "execution_count": null,
   "metadata": {
    "collapsed": true
   },
   "outputs": [],
   "source": [
    "# Scale DiffPts , DiffFormPts, HTGD, ATGD by Matchweek.\n",
    "cols = ['HTGD','ATGD','DiffPts','DiffFormPts','HTP','ATP']\n",
    "playing_stat.MW = playing_stat.MW.astype(float)\n",
    "\n",
    "for col in cols:\n",
    "    playing_stat[col] = playing_stat[col] / playing_stat.MW"
   ]
  },
  {
   "cell_type": "code",
   "execution_count": null,
   "metadata": {
    "collapsed": true
   },
   "outputs": [],
   "source": [
    "def only_hw(string):\n",
    "    if string == 'H':\n",
    "        return 'H'\n",
    "    else:\n",
    "        return 'NH'\n",
    "    \n",
    "playing_stat['FTR'] = playing_stat.FTR.apply(only_hw)\n",
    "\n",
    "# Testing set (2015-16 season)\n",
    "playing_stat_test = playing_stat[1140:]"
   ]
  },
  {
   "cell_type": "code",
   "execution_count": null,
   "metadata": {
    "collapsed": true
   },
   "outputs": [],
   "source": [
    "playing_stat.to_csv(loc + \"final_dataset.csv\")\n",
    "playing_stat_test.to_csv(loc+\"test.csv\")"
   ]
  }
 ],
 "metadata": {
  "kernelspec": {
   "display_name": "Python 3",
   "language": "python",
   "name": "python3"
  },
  "language_info": {
   "codemirror_mode": {
    "name": "ipython",
    "version": 3
   },
   "file_extension": ".py",
   "mimetype": "text/x-python",
   "name": "python",
   "nbconvert_exporter": "python",
   "pygments_lexer": "ipython3",
   "version": "3.6.1"
  }
 },
 "nbformat": 4,
 "nbformat_minor": 1
}
