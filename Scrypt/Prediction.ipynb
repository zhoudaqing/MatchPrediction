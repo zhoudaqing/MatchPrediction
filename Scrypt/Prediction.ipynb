{
 "cells": [
  {
   "cell_type": "markdown",
   "metadata": {},
   "source": [
    "## Import Dependencies"
   ]
  },
  {
   "cell_type": "code",
   "execution_count": null,
   "metadata": {},
   "outputs": [],
   "source": [
    "import pandas as pd\n",
    "from sklearn.ensemble import RandomForestRegressor\n",
    "from sklearn.metrics import roc_auc_score\n",
    "from sklearn.model_selection import GridSearchCV\n",
    "from sklearn.model_selection import RandomizedSearchCV\n",
    "from sklearn.metrics import accuracy_score\n",
    "from sklearn.model_selection import ShuffleSplit\n",
    "from IPython.display import display\n",
    "from sklearn.linear_model import LogisticRegression\n",
    "from sklearn.ensemble import RandomForestClassifier\n",
    "from sklearn.svm import SVC\n",
    "%matplotlib inline\n",
    "\n",
    "data = pd.read_csv('C:/Users/Admin/Desktop/ML/Source for ML training/Data/e0/final_dataset.csv', index_col=0)\n",
    "\n",
    "# Preview data.\n",
    "#display(data.head())\n",
    "#data['FTR']\n"
   ]
  },
  {
   "cell_type": "code",
   "execution_count": null,
   "metadata": {},
   "outputs": [],
   "source": [
    "def ftr(x):\n",
    "    if str(x) == 'H':\n",
    "        return int(1)\n",
    "    else:\n",
    "        return int(0) \n",
    "\n",
    "\n",
    "data['FTR'] = data['FTR'].apply(ftr)\n",
    "\n",
    "features =  ['FTR','HTP','ATP','HomeTeamLP','AwayTeamLP',\n",
    "             'MW','HTFormPts','ATFormPts','HTWinStreak3','HTWinStreak5','HTLossStreak3','HTLossStreak5','ATWinStreak3','ATWinStreak5',\n",
    "            'HTGD','ATGD','DiffPts','DiffFormPts','DiffLP']   \n",
    "x = data[features]\n",
    "y = x.pop('FTR')\n",
    "model = RandomForestRegressor(min_samples_leaf=5, oob_score=True,n_estimators=1000, random_state=42) \n",
    "model.fit(x[:1140], y[:1140])\n"
   ]
  },
  {
   "cell_type": "code",
   "execution_count": null,
   "metadata": {},
   "outputs": [],
   "source": [
    "y1 = model.predict(x[1140:])\n",
    "y_oob = model.oob_prediction_\n",
    "print(roc_auc_score(y[1140:], y1))"
   ]
  },
  {
   "cell_type": "code",
   "execution_count": null,
   "metadata": {
    "collapsed": true
   },
   "outputs": [],
   "source": [
    "# Separate into feature set and target variable\n",
    "#FTR = Full Time Result (H=Home Win, D=Draw, A=Away Win)\n",
    "X_all = data.drop(['FTR'],1)\n",
    "y_all = data['FTR']\n",
    "\n",
    "# Standardising the data.\n",
    "from sklearn.preprocessing import scale\n",
    "\n",
    "#Center to the mean and component wise scale to unit variance.\n",
    "cols = [['HTGD','ATGD','HTP','ATP','DiffLP']]\n",
    "for col in cols:\n",
    "    X_all[col] = scale(X_all[col])\n",
    "    "
   ]
  }
 ],
 "metadata": {
  "kernelspec": {
   "display_name": "Python 3",
   "language": "python",
   "name": "python3"
  },
  "language_info": {
   "codemirror_mode": {
    "name": "ipython",
    "version": 3
   },
   "file_extension": ".py",
   "mimetype": "text/x-python",
   "name": "python",
   "nbconvert_exporter": "python",
   "pygments_lexer": "ipython3",
   "version": "3.6.1"
  }
 },
 "nbformat": 4,
 "nbformat_minor": 1
}
